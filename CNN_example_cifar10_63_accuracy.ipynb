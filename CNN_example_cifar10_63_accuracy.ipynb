{
  "nbformat": 4,
  "nbformat_minor": 0,
  "metadata": {
    "colab": {
      "provenance": [],
      "collapsed_sections": []
    },
    "kernelspec": {
      "name": "python3",
      "display_name": "Python 3"
    },
    "language_info": {
      "name": "python"
    },
    "accelerator": "GPU"
  },
  "cells": [
    {
      "cell_type": "code",
      "metadata": {
        "id": "HD2Rk-ZDSMVx"
      },
      "source": [
        "from tensorflow import keras\n",
        "from keras.layers import Input, Dense, Dropout,Conv2D, MaxPool2D, Flatten\n",
        "from tensorflow.keras import  datasets\n",
        "from matplotlib import pyplot as plt"
      ],
      "execution_count": 36,
      "outputs": []
    },
    {
      "cell_type": "code",
      "source": [
        "(x_train, y_train), (x_test, y_test) = datasets.cifar10.load_data()"
      ],
      "metadata": {
        "id": "6V3cDL4G4WMF"
      },
      "execution_count": 37,
      "outputs": []
    },
    {
      "cell_type": "code",
      "source": [
        "x_train.shape"
      ],
      "metadata": {
        "colab": {
          "base_uri": "https://localhost:8080/"
        },
        "id": "55_pRpY4yeVd",
        "outputId": "700d7b0f-4a08-4265-8356-53f99bc6193d"
      },
      "execution_count": 38,
      "outputs": [
        {
          "output_type": "execute_result",
          "data": {
            "text/plain": [
              "(50000, 32, 32, 3)"
            ]
          },
          "metadata": {},
          "execution_count": 38
        }
      ]
    },
    {
      "cell_type": "code",
      "source": [
        "x_test.shape"
      ],
      "metadata": {
        "colab": {
          "base_uri": "https://localhost:8080/"
        },
        "id": "lcHxNPByyt2B",
        "outputId": "b8e9ef95-1122-48c2-d4e5-e5979b694854"
      },
      "execution_count": 39,
      "outputs": [
        {
          "output_type": "execute_result",
          "data": {
            "text/plain": [
              "(10000, 32, 32, 3)"
            ]
          },
          "metadata": {},
          "execution_count": 39
        }
      ]
    },
    {
      "cell_type": "code",
      "metadata": {
        "id": "vt9t37WrhWy8"
      },
      "source": [
        "#Normalize image pixel values.\n",
        "x_train = x_train/255\n",
        "x_test = x_test/255"
      ],
      "execution_count": 40,
      "outputs": []
    },
    {
      "cell_type": "code",
      "metadata": {
        "colab": {
          "base_uri": "https://localhost:8080/"
        },
        "id": "ORom-RTJZ-kp",
        "outputId": "491da861-95ab-46aa-b7e5-2e85702cdb7b"
      },
      "source": [
        "model=keras.Sequential() #Create a network sequence.\n",
        "\n",
        "model.add(Input(shape=(32,32,3)))\n",
        "model.add(Conv2D(filters=6,kernel_size = 5,strides = (1,1), padding = 'valid',activation = 'relu'))\n",
        "#model.add(Conv2D(filters=6,kernel_size = 5,strides = (1,1), padding = 'valid',activation = 'relu',input_shape = (32,32,3)))\n",
        "model.add(MaxPool2D(pool_size=(2,2), strides = (2,2), padding = 'valid'))\n",
        "\n",
        "model.add(Conv2D(filters=16,kernel_size = 5,strides = (1,1), padding = 'valid',activation = 'relu'))\n",
        "model.add(MaxPool2D(pool_size=(2,2), strides = (2,2), padding = 'valid'))\n",
        "\n",
        "model.add(Flatten())\n",
        "model.add(Dense(120,activation = 'relu'))\n",
        "model.add(Dense(84,activation = 'relu'))\n",
        "model.add(Dense(10,activation = 'softmax'))\n",
        "\n",
        "model.summary()"
      ],
      "execution_count": 41,
      "outputs": [
        {
          "output_type": "stream",
          "name": "stdout",
          "text": [
            "Model: \"sequential_4\"\n",
            "_________________________________________________________________\n",
            " Layer (type)                Output Shape              Param #   \n",
            "=================================================================\n",
            " conv2d_4 (Conv2D)           (None, 28, 28, 6)         456       \n",
            "                                                                 \n",
            " max_pooling2d_4 (MaxPooling  (None, 14, 14, 6)        0         \n",
            " 2D)                                                             \n",
            "                                                                 \n",
            " conv2d_5 (Conv2D)           (None, 10, 10, 16)        2416      \n",
            "                                                                 \n",
            " max_pooling2d_5 (MaxPooling  (None, 5, 5, 16)         0         \n",
            " 2D)                                                             \n",
            "                                                                 \n",
            " flatten_3 (Flatten)         (None, 400)               0         \n",
            "                                                                 \n",
            " dense_9 (Dense)             (None, 120)               48120     \n",
            "                                                                 \n",
            " dense_10 (Dense)            (None, 84)                10164     \n",
            "                                                                 \n",
            " dense_11 (Dense)            (None, 10)                850       \n",
            "                                                                 \n",
            "=================================================================\n",
            "Total params: 62,006\n",
            "Trainable params: 62,006\n",
            "Non-trainable params: 0\n",
            "_________________________________________________________________\n"
          ]
        }
      ]
    },
    {
      "cell_type": "code",
      "metadata": {
        "id": "skMSXinVhSPV",
        "colab": {
          "base_uri": "https://localhost:8080/"
        },
        "outputId": "03029519-126c-43c0-fbc6-b210999a4857"
      },
      "source": [
        "model.compile(optimizer='Adam',loss=\"sparse_categorical_crossentropy\",metrics=['accuracy']) \n",
        "results= model.fit(x_train,y_train,epochs=20,batch_size=128,validation_data=(x_test, y_test))\n",
        "\n"
      ],
      "execution_count": 42,
      "outputs": [
        {
          "output_type": "stream",
          "name": "stdout",
          "text": [
            "Epoch 1/20\n",
            "391/391 [==============================] - 3s 6ms/step - loss: 1.7357 - accuracy: 0.3655 - val_loss: 1.5292 - val_accuracy: 0.4454\n",
            "Epoch 2/20\n",
            "391/391 [==============================] - 2s 5ms/step - loss: 1.4660 - accuracy: 0.4740 - val_loss: 1.3997 - val_accuracy: 0.4942\n",
            "Epoch 3/20\n",
            "391/391 [==============================] - 2s 5ms/step - loss: 1.3504 - accuracy: 0.5201 - val_loss: 1.3332 - val_accuracy: 0.5223\n",
            "Epoch 4/20\n",
            "391/391 [==============================] - 2s 5ms/step - loss: 1.2583 - accuracy: 0.5560 - val_loss: 1.2506 - val_accuracy: 0.5567\n",
            "Epoch 5/20\n",
            "391/391 [==============================] - 2s 5ms/step - loss: 1.1953 - accuracy: 0.5800 - val_loss: 1.2072 - val_accuracy: 0.5746\n",
            "Epoch 6/20\n",
            "391/391 [==============================] - 2s 5ms/step - loss: 1.1397 - accuracy: 0.5997 - val_loss: 1.2158 - val_accuracy: 0.5768\n",
            "Epoch 7/20\n",
            "391/391 [==============================] - 2s 5ms/step - loss: 1.0924 - accuracy: 0.6159 - val_loss: 1.1482 - val_accuracy: 0.5957\n",
            "Epoch 8/20\n",
            "391/391 [==============================] - 2s 5ms/step - loss: 1.0558 - accuracy: 0.6304 - val_loss: 1.1688 - val_accuracy: 0.5923\n",
            "Epoch 9/20\n",
            "391/391 [==============================] - 2s 5ms/step - loss: 1.0267 - accuracy: 0.6418 - val_loss: 1.1048 - val_accuracy: 0.6135\n",
            "Epoch 10/20\n",
            "391/391 [==============================] - 2s 5ms/step - loss: 0.9931 - accuracy: 0.6513 - val_loss: 1.1079 - val_accuracy: 0.6184\n",
            "Epoch 11/20\n",
            "391/391 [==============================] - 2s 5ms/step - loss: 0.9635 - accuracy: 0.6631 - val_loss: 1.1188 - val_accuracy: 0.6107\n",
            "Epoch 12/20\n",
            "391/391 [==============================] - 2s 5ms/step - loss: 0.9367 - accuracy: 0.6738 - val_loss: 1.0854 - val_accuracy: 0.6232\n",
            "Epoch 13/20\n",
            "391/391 [==============================] - 2s 5ms/step - loss: 0.9172 - accuracy: 0.6765 - val_loss: 1.0967 - val_accuracy: 0.6173\n",
            "Epoch 14/20\n",
            "391/391 [==============================] - 2s 5ms/step - loss: 0.8875 - accuracy: 0.6887 - val_loss: 1.0775 - val_accuracy: 0.6265\n",
            "Epoch 15/20\n",
            "391/391 [==============================] - 2s 5ms/step - loss: 0.8762 - accuracy: 0.6925 - val_loss: 1.0777 - val_accuracy: 0.6274\n",
            "Epoch 16/20\n",
            "391/391 [==============================] - 2s 5ms/step - loss: 0.8485 - accuracy: 0.7032 - val_loss: 1.0711 - val_accuracy: 0.6332\n",
            "Epoch 17/20\n",
            "391/391 [==============================] - 2s 5ms/step - loss: 0.8301 - accuracy: 0.7082 - val_loss: 1.0887 - val_accuracy: 0.6251\n",
            "Epoch 18/20\n",
            "391/391 [==============================] - 2s 5ms/step - loss: 0.8097 - accuracy: 0.7171 - val_loss: 1.1224 - val_accuracy: 0.6176\n",
            "Epoch 19/20\n",
            "391/391 [==============================] - 2s 5ms/step - loss: 0.7901 - accuracy: 0.7224 - val_loss: 1.0999 - val_accuracy: 0.6207\n",
            "Epoch 20/20\n",
            "391/391 [==============================] - 2s 5ms/step - loss: 0.7719 - accuracy: 0.7299 - val_loss: 1.0933 - val_accuracy: 0.6346\n"
          ]
        }
      ]
    },
    {
      "cell_type": "code",
      "metadata": {
        "id": "eQsuIhTzk3fE",
        "colab": {
          "base_uri": "https://localhost:8080/"
        },
        "outputId": "9936c47e-18dc-4a9b-8ba0-cbce7c1e7bea"
      },
      "source": [
        "score = model.evaluate(x_test, y_test)\n"
      ],
      "execution_count": 43,
      "outputs": [
        {
          "output_type": "stream",
          "name": "stdout",
          "text": [
            "313/313 [==============================] - 1s 3ms/step - loss: 1.0933 - accuracy: 0.6346\n"
          ]
        }
      ]
    },
    {
      "cell_type": "code",
      "source": [
        "y_pred=model.predict(x_test)\n",
        "y_pred[0:3]"
      ],
      "metadata": {
        "colab": {
          "base_uri": "https://localhost:8080/"
        },
        "id": "TM8rVSJTubdk",
        "outputId": "05312149-1547-4f86-ae84-2bd4a6fa4cea"
      },
      "execution_count": 47,
      "outputs": [
        {
          "output_type": "execute_result",
          "data": {
            "text/plain": [
              "array([[5.0076237e-04, 2.5611328e-02, 7.5104893e-03, 7.4398118e-01,\n",
              "        5.1915262e-02, 2.1120299e-02, 1.3639909e-01, 1.7395227e-03,\n",
              "        1.5302604e-03, 9.6918065e-03],\n",
              "       [7.9586163e-02, 7.2787303e-01, 1.0314399e-05, 1.2678183e-07,\n",
              "        2.3594070e-07, 6.7275678e-08, 7.5629551e-08, 1.5355005e-07,\n",
              "        1.3590303e-01, 5.6626856e-02],\n",
              "       [6.0242355e-01, 2.9507503e-02, 4.2144451e-03, 4.4598349e-04,\n",
              "        2.4054117e-04, 5.4159405e-04, 1.4288773e-04, 4.9163942e-04,\n",
              "        3.1862351e-01, 4.3368381e-02]], dtype=float32)"
            ]
          },
          "metadata": {},
          "execution_count": 47
        }
      ]
    },
    {
      "cell_type": "code",
      "source": [
        "import numpy as np\n",
        "from numpy import argmax\n",
        "y_pred1=argmax(y_pred,axis=1)\n",
        "y_pred1[0:3]"
      ],
      "metadata": {
        "colab": {
          "base_uri": "https://localhost:8080/"
        },
        "id": "E0pQxWNYug09",
        "outputId": "96c5d5eb-3803-4fcf-b5e8-388b8fc86a83"
      },
      "execution_count": 49,
      "outputs": [
        {
          "output_type": "execute_result",
          "data": {
            "text/plain": [
              "array([3, 1, 0])"
            ]
          },
          "metadata": {},
          "execution_count": 49
        }
      ]
    },
    {
      "cell_type": "code",
      "source": [
        "from sklearn.metrics import accuracy_score,confusion_matrix\n",
        "print(confusion_matrix(y_pred1,y_test))\n",
        "print(accuracy_score(y_pred1,y_test))"
      ],
      "metadata": {
        "colab": {
          "base_uri": "https://localhost:8080/"
        },
        "id": "7lE3BZMAuqtB",
        "outputId": "bf415ea3-01cd-4e4f-ce2f-33994f98b469"
      },
      "execution_count": 50,
      "outputs": [
        {
          "output_type": "stream",
          "name": "stdout",
          "text": [
            "[[675  21  62  26  25   8   6  23  74  34]\n",
            " [ 40 804  16  22  13  10  14  11  59 123]\n",
            " [ 62   9 552 107 120 102  69  50  17  20]\n",
            " [ 14  10  68 400  55 193  54  42  16   9]\n",
            " [ 19   8  88  83 552  62  23  72   9  14]\n",
            " [  8   4  61 162  39 471  34  78   9  13]\n",
            " [ 20  25  72 114  94  67 765  22  14  20]\n",
            " [  3   5  32  26  69  57   6 660   2  16]\n",
            " [112  25  27  24  20  17  10   3 757  41]\n",
            " [ 47  89  22  36  13  13  19  39  43 710]]\n",
            "0.6346\n"
          ]
        }
      ]
    }
  ]
}