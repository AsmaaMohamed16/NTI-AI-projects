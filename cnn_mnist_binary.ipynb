{
  "nbformat": 4,
  "nbformat_minor": 0,
  "metadata": {
    "colab": {
      "provenance": [],
      "collapsed_sections": []
    },
    "kernelspec": {
      "name": "python3",
      "display_name": "Python 3"
    },
    "language_info": {
      "name": "python"
    }
  },
  "cells": [
    {
      "cell_type": "code",
      "metadata": {
        "id": "HD2Rk-ZDSMVx"
      },
      "source": [
        "from tensorflow import keras\n",
        "from keras.layers import Input, Dense, Dropout,Conv2D, MaxPooling2D, Flatten\n",
        "from tensorflow.keras import  datasets\n",
        "from matplotlib import pyplot as plt\n"
      ],
      "execution_count": 49,
      "outputs": []
    },
    {
      "cell_type": "code",
      "source": [
        "(x_train, y_train), (x_test, y_test) = datasets.mnist.load_data()\n",
        "x_train_binary= x_train[(y_train==0) | (y_train==1)]\n",
        "y_train_binary= y_train[(y_train==0) | (y_train==1)]\n",
        "\n",
        "x_train_binary.shape"
      ],
      "metadata": {
        "id": "6V3cDL4G4WMF",
        "colab": {
          "base_uri": "https://localhost:8080/"
        },
        "outputId": "882f4e22-7d4e-4dec-b491-3943183116cf"
      },
      "execution_count": 50,
      "outputs": [
        {
          "output_type": "execute_result",
          "data": {
            "text/plain": [
              "(12665, 28, 28)"
            ]
          },
          "metadata": {},
          "execution_count": 50
        }
      ]
    },
    {
      "cell_type": "code",
      "source": [
        "x_test_binary= x_test[(y_test==0) | (y_test==1)]\n",
        "y_test_binary= y_test[(y_test==0) | (y_test==1)]"
      ],
      "metadata": {
        "id": "_yQ3-bC6ma87"
      },
      "execution_count": 51,
      "outputs": []
    },
    {
      "cell_type": "code",
      "metadata": {
        "id": "vt9t37WrhWy8"
      },
      "source": [
        "#Normalize image pixel values.\n",
        "x_train_binary = x_train_binary/255\n",
        "x_test_binary = x_test_binary/255"
      ],
      "execution_count": 52,
      "outputs": []
    },
    {
      "cell_type": "code",
      "metadata": {
        "colab": {
          "base_uri": "https://localhost:8080/"
        },
        "id": "ORom-RTJZ-kp",
        "outputId": "108e6ba4-9883-471d-f256-de2da20abdfc"
      },
      "source": [
        "model=keras.Sequential() #Create a network sequence.\n",
        "\n",
        "model.add(Input(shape=(28,28,1)))\n",
        "model.add(Flatten())\n",
        "model.add(Dense(120,activation = 'tanh'))\n",
        "model.add(Dense(84,activation = 'tanh'))\n",
        "model.add(Dense(1,activation = 'sigmoid'))\n",
        "\n",
        "model.summary()"
      ],
      "execution_count": 53,
      "outputs": [
        {
          "output_type": "stream",
          "name": "stdout",
          "text": [
            "Model: \"sequential_3\"\n",
            "_________________________________________________________________\n",
            " Layer (type)                Output Shape              Param #   \n",
            "=================================================================\n",
            " flatten_3 (Flatten)         (None, 784)               0         \n",
            "                                                                 \n",
            " dense_9 (Dense)             (None, 120)               94200     \n",
            "                                                                 \n",
            " dense_10 (Dense)            (None, 84)                10164     \n",
            "                                                                 \n",
            " dense_11 (Dense)            (None, 1)                 85        \n",
            "                                                                 \n",
            "=================================================================\n",
            "Total params: 104,449\n",
            "Trainable params: 104,449\n",
            "Non-trainable params: 0\n",
            "_________________________________________________________________\n"
          ]
        }
      ]
    },
    {
      "cell_type": "code",
      "source": [
        "x_train_binary.shape"
      ],
      "metadata": {
        "colab": {
          "base_uri": "https://localhost:8080/"
        },
        "id": "aiTu4bu2mQCr",
        "outputId": "35b0e824-611f-4a22-a138-ff1dc2985d0b"
      },
      "execution_count": 54,
      "outputs": [
        {
          "output_type": "execute_result",
          "data": {
            "text/plain": [
              "(12665, 28, 28)"
            ]
          },
          "metadata": {},
          "execution_count": 54
        }
      ]
    },
    {
      "cell_type": "code",
      "metadata": {
        "id": "skMSXinVhSPV",
        "colab": {
          "base_uri": "https://localhost:8080/"
        },
        "outputId": "461fd0ac-1fba-4839-8042-6fdc7dd79948"
      },
      "source": [
        "\n",
        "model.compile(optimizer='Adam',loss=\"binary_crossentropy\",metrics=['accuracy']) \n",
        "results= model.fit(x_train_binary,y_train_binary,epochs=10,batch_size=128,validation_data=(x_test_binary, y_test_binary))\n",
        "\n"
      ],
      "execution_count": 55,
      "outputs": [
        {
          "output_type": "stream",
          "name": "stdout",
          "text": [
            "Epoch 1/10\n",
            "99/99 [==============================] - 1s 4ms/step - loss: 0.0295 - accuracy: 0.9907 - val_loss: 0.0016 - val_accuracy: 0.9995\n",
            "Epoch 2/10\n",
            "99/99 [==============================] - 0s 3ms/step - loss: 0.0033 - accuracy: 0.9991 - val_loss: 0.0017 - val_accuracy: 0.9995\n",
            "Epoch 3/10\n",
            "99/99 [==============================] - 0s 3ms/step - loss: 0.0020 - accuracy: 0.9994 - val_loss: 0.0023 - val_accuracy: 0.9991\n",
            "Epoch 4/10\n",
            "99/99 [==============================] - 0s 3ms/step - loss: 0.0020 - accuracy: 0.9994 - val_loss: 0.0029 - val_accuracy: 0.9995\n",
            "Epoch 5/10\n",
            "99/99 [==============================] - 0s 3ms/step - loss: 0.0011 - accuracy: 0.9998 - val_loss: 0.0018 - val_accuracy: 0.9995\n",
            "Epoch 6/10\n",
            "99/99 [==============================] - 0s 3ms/step - loss: 9.3083e-04 - accuracy: 0.9997 - val_loss: 0.0020 - val_accuracy: 0.9995\n",
            "Epoch 7/10\n",
            "99/99 [==============================] - 0s 3ms/step - loss: 5.8297e-04 - accuracy: 0.9998 - val_loss: 0.0023 - val_accuracy: 0.9995\n",
            "Epoch 8/10\n",
            "99/99 [==============================] - 0s 3ms/step - loss: 9.5656e-04 - accuracy: 0.9997 - val_loss: 0.0023 - val_accuracy: 0.9995\n",
            "Epoch 9/10\n",
            "99/99 [==============================] - 0s 3ms/step - loss: 2.0309e-04 - accuracy: 1.0000 - val_loss: 0.0021 - val_accuracy: 0.9995\n",
            "Epoch 10/10\n",
            "99/99 [==============================] - 0s 3ms/step - loss: 1.6984e-04 - accuracy: 1.0000 - val_loss: 0.0020 - val_accuracy: 0.9995\n"
          ]
        }
      ]
    },
    {
      "cell_type": "code",
      "metadata": {
        "id": "eQsuIhTzk3fE",
        "colab": {
          "base_uri": "https://localhost:8080/"
        },
        "outputId": "fa5737d8-f794-4ad6-8db6-8265c6264e08"
      },
      "source": [
        "score = model.evaluate(x_train_binary, y_train_binary)\n"
      ],
      "execution_count": 56,
      "outputs": [
        {
          "output_type": "stream",
          "name": "stdout",
          "text": [
            "396/396 [==============================] - 0s 957us/step - loss: 9.3122e-05 - accuracy: 1.0000\n"
          ]
        }
      ]
    },
    {
      "cell_type": "code",
      "source": [
        "score = model.evaluate(x_test_binary, y_test_binary)"
      ],
      "metadata": {
        "colab": {
          "base_uri": "https://localhost:8080/"
        },
        "id": "FBO9OonO2yk-",
        "outputId": "aeef42ec-0ab5-46aa-f1ca-9d82c5c2c7ec"
      },
      "execution_count": 57,
      "outputs": [
        {
          "output_type": "stream",
          "name": "stdout",
          "text": [
            "67/67 [==============================] - 0s 981us/step - loss: 0.0020 - accuracy: 0.9995\n"
          ]
        }
      ]
    },
    {
      "cell_type": "code",
      "source": [
        "y_pred=model.predict(x_test_binary)\n",
        "y_pred.shape"
      ],
      "metadata": {
        "colab": {
          "base_uri": "https://localhost:8080/"
        },
        "id": "tYFsXo2prE6n",
        "outputId": "a7cf1056-2b8f-487f-8a63-86ee60d469d7"
      },
      "execution_count": 58,
      "outputs": [
        {
          "output_type": "execute_result",
          "data": {
            "text/plain": [
              "(2115, 1)"
            ]
          },
          "metadata": {},
          "execution_count": 58
        }
      ]
    },
    {
      "cell_type": "code",
      "source": [
        "y_pred[0:10]"
      ],
      "metadata": {
        "colab": {
          "base_uri": "https://localhost:8080/"
        },
        "id": "sj9tUvzgnoR_",
        "outputId": "2ebdc703-e271-4ffc-d0bd-fa5fffd7e53a"
      },
      "execution_count": 59,
      "outputs": [
        {
          "output_type": "execute_result",
          "data": {
            "text/plain": [
              "array([[9.9997067e-01],\n",
              "       [3.3583106e-06],\n",
              "       [9.9998701e-01],\n",
              "       [2.3672421e-06],\n",
              "       [3.0633310e-06],\n",
              "       [9.9999785e-01],\n",
              "       [9.5846383e-07],\n",
              "       [2.8965940e-06],\n",
              "       [9.9999630e-01],\n",
              "       [9.9999595e-01]], dtype=float32)"
            ]
          },
          "metadata": {},
          "execution_count": 59
        }
      ]
    },
    {
      "cell_type": "code",
      "source": [
        "y_pred1= ((y_pred>=0.5).astype(int))"
      ],
      "metadata": {
        "id": "Gm-IQ0seoKPY"
      },
      "execution_count": 60,
      "outputs": []
    },
    {
      "cell_type": "code",
      "source": [
        "#y_pred= ((model.predict(test_set)>=0.5).astype(int))"
      ],
      "metadata": {
        "id": "sfjccJJyrNVC"
      },
      "execution_count": 61,
      "outputs": []
    },
    {
      "cell_type": "code",
      "source": [
        "y_pred1[0:10]"
      ],
      "metadata": {
        "colab": {
          "base_uri": "https://localhost:8080/"
        },
        "id": "YPXscz4LoXjn",
        "outputId": "ef2789f0-f119-4949-a448-e39568b87fda"
      },
      "execution_count": 62,
      "outputs": [
        {
          "output_type": "execute_result",
          "data": {
            "text/plain": [
              "array([[1],\n",
              "       [0],\n",
              "       [1],\n",
              "       [0],\n",
              "       [0],\n",
              "       [1],\n",
              "       [0],\n",
              "       [0],\n",
              "       [1],\n",
              "       [1]])"
            ]
          },
          "metadata": {},
          "execution_count": 62
        }
      ]
    },
    {
      "cell_type": "code",
      "source": [
        "from sklearn.metrics import accuracy_score,  confusion_matrix\n",
        "print(confusion_matrix(y_test_binary,y_pred1))\n",
        "\n",
        "accuracy_score(y_test_binary,y_pred1)*100"
      ],
      "metadata": {
        "colab": {
          "base_uri": "https://localhost:8080/"
        },
        "id": "_krJCSqEuy74",
        "outputId": "a7b69548-4122-40f1-ef68-e1d4952b27ac"
      },
      "execution_count": 63,
      "outputs": [
        {
          "output_type": "stream",
          "name": "stdout",
          "text": [
            "[[ 979    1]\n",
            " [   0 1135]]\n"
          ]
        },
        {
          "output_type": "execute_result",
          "data": {
            "text/plain": [
              "99.95271867612293"
            ]
          },
          "metadata": {},
          "execution_count": 63
        }
      ]
    },
    {
      "cell_type": "code",
      "source": [
        "plt.imshow(x_test[0],cmap=\"gray\")\n",
        "print(y_pred[0])\n",
        "print(y_pred1[0])"
      ],
      "metadata": {
        "colab": {
          "base_uri": "https://localhost:8080/",
          "height": 302
        },
        "id": "oiOWzqKL6WzA",
        "outputId": "46c92981-ef61-417f-cfcc-251753edf8ad"
      },
      "execution_count": 64,
      "outputs": [
        {
          "output_type": "stream",
          "name": "stdout",
          "text": [
            "[0.9999707]\n",
            "[1]\n"
          ]
        },
        {
          "output_type": "display_data",
          "data": {
            "text/plain": [
              "<Figure size 432x288 with 1 Axes>"
            ],
            "image/png": "[encoded data removed]"
          },
          "metadata": {
            "needs_background": "light"
          }
        }
      ]
    }
  ]
}