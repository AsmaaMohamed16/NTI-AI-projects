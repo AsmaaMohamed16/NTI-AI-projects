{
  "nbformat": 4,
  "nbformat_minor": 0,
  "metadata": {
    "colab": {
      "provenance": [],
      "collapsed_sections": []
    },
    "kernelspec": {
      "name": "python3",
      "display_name": "Python 3"
    },
    "language_info": {
      "name": "python"
    },
    "accelerator": "GPU"
  },
  "cells": [
    {
      "cell_type": "code",
      "metadata": {
        "id": "HD2Rk-ZDSMVx"
      },
      "source": [
        "from tensorflow import keras\n",
        "from keras.layers import Input, Dense, Dropout,Conv2D, MaxPooling2D, Flatten\n",
        "from tensorflow.keras import  datasets\n",
        "from matplotlib import pyplot as plt"
      ],
      "execution_count": 27,
      "outputs": []
    },
    {
      "cell_type": "code",
      "source": [
        "(x_train, y_train), (x_test, y_test) = datasets.cifar10.load_data()"
      ],
      "metadata": {
        "id": "6V3cDL4G4WMF"
      },
      "execution_count": 28,
      "outputs": []
    },
    {
      "cell_type": "code",
      "source": [
        "x_train.shape"
      ],
      "metadata": {
        "colab": {
          "base_uri": "https://localhost:8080/"
        },
        "id": "55_pRpY4yeVd",
        "outputId": "89bdb08e-2b5d-4e6d-ef41-6510c815fb4a"
      },
      "execution_count": 29,
      "outputs": [
        {
          "output_type": "execute_result",
          "data": {
            "text/plain": [
              "(50000, 32, 32, 3)"
            ]
          },
          "metadata": {},
          "execution_count": 29
        }
      ]
    },
    {
      "cell_type": "code",
      "source": [
        "x_test.shape"
      ],
      "metadata": {
        "colab": {
          "base_uri": "https://localhost:8080/"
        },
        "id": "lcHxNPByyt2B",
        "outputId": "8d183968-e80e-4883-d5e5-beec2dc419b2"
      },
      "execution_count": 30,
      "outputs": [
        {
          "output_type": "execute_result",
          "data": {
            "text/plain": [
              "(10000, 32, 32, 3)"
            ]
          },
          "metadata": {},
          "execution_count": 30
        }
      ]
    },
    {
      "cell_type": "code",
      "metadata": {
        "id": "vt9t37WrhWy8"
      },
      "source": [
        "#Normalize image pixel values.\n",
        "x_train = x_train/255\n",
        "x_test = x_test/255"
      ],
      "execution_count": 31,
      "outputs": []
    },
    {
      "cell_type": "code",
      "metadata": {
        "id": "ORom-RTJZ-kp"
      },
      "source": [
        "model=keras.Sequential() #Create a network sequence.\n",
        "\n",
        "model.add(Input(shape=(32,32,3)))\n",
        "model.add(Conv2D(32, (3, 3), padding='same',activation='relu'))\n",
        "#model.add(Conv2D(32, (3, 3), padding='same', activation='relu', input_shape=(32,32,3)))\n",
        "model.add(Conv2D(32, (3, 3), activation='relu'))\n",
        "model.add(MaxPooling2D(pool_size=(2, 2)))\n",
        "model.add(Dropout(0.25))\n",
        "model.add(Conv2D(64, (3, 3), padding='same', activation='relu'))\n",
        "model.add(Conv2D(64, (3, 3), activation='relu'))\n",
        "model.add(MaxPooling2D(pool_size=(2, 2)))\n",
        "model.add(Dropout(0.25))\n",
        "model.add(Conv2D(64, (3, 3), padding='same', activation='relu'))\n",
        "model.add(Conv2D(64, (3, 3), activation='relu'))\n",
        "model.add(MaxPooling2D(pool_size=(2, 2)))\n",
        "model.add(Dropout(0.25))\n",
        "model.add(Flatten())\n",
        "model.add(Dense(512, activation='relu'))\n",
        "model.add(Dropout(0.25))\n",
        "model.add(Dense(10, activation='softmax'))"
      ],
      "execution_count": 32,
      "outputs": []
    },
    {
      "cell_type": "code",
      "metadata": {
        "id": "skMSXinVhSPV",
        "colab": {
          "base_uri": "https://localhost:8080/"
        },
        "outputId": "d6b39ca0-33ad-4fd8-bee8-52039ef12c38"
      },
      "source": [
        "model.compile(optimizer='Adam',loss=\"sparse_categorical_crossentropy\",metrics=['accuracy']) \n",
        "results= model.fit(x_train,y_train,epochs=20,batch_size=128,validation_data=(x_test, y_test))\n",
        "\n"
      ],
      "execution_count": 33,
      "outputs": [
        {
          "output_type": "stream",
          "name": "stdout",
          "text": [
            "Epoch 1/20\n",
            "391/391 [==============================] - 157s 401ms/step - loss: 1.7742 - accuracy: 0.3312 - val_loss: 1.4111 - val_accuracy: 0.4762\n",
            "Epoch 2/20\n",
            "391/391 [==============================] - 156s 399ms/step - loss: 1.3248 - accuracy: 0.5166 - val_loss: 1.2202 - val_accuracy: 0.5601\n",
            "Epoch 3/20\n",
            "391/391 [==============================] - 157s 401ms/step - loss: 1.1594 - accuracy: 0.5802 - val_loss: 1.0616 - val_accuracy: 0.6250\n",
            "Epoch 4/20\n",
            "391/391 [==============================] - 157s 401ms/step - loss: 1.0560 - accuracy: 0.6215 - val_loss: 0.9249 - val_accuracy: 0.6698\n",
            "Epoch 5/20\n",
            "391/391 [==============================] - 157s 401ms/step - loss: 0.9724 - accuracy: 0.6533 - val_loss: 0.8968 - val_accuracy: 0.6891\n",
            "Epoch 6/20\n",
            "391/391 [==============================] - 157s 401ms/step - loss: 0.8998 - accuracy: 0.6779 - val_loss: 0.8401 - val_accuracy: 0.7039\n",
            "Epoch 7/20\n",
            "391/391 [==============================] - 157s 401ms/step - loss: 0.8443 - accuracy: 0.7008 - val_loss: 0.7855 - val_accuracy: 0.7239\n",
            "Epoch 8/20\n",
            "391/391 [==============================] - 156s 400ms/step - loss: 0.7951 - accuracy: 0.7192 - val_loss: 0.7613 - val_accuracy: 0.7334\n",
            "Epoch 9/20\n",
            "391/391 [==============================] - 156s 399ms/step - loss: 0.7636 - accuracy: 0.7307 - val_loss: 0.7171 - val_accuracy: 0.7530\n",
            "Epoch 10/20\n",
            "391/391 [==============================] - 157s 400ms/step - loss: 0.7255 - accuracy: 0.7436 - val_loss: 0.7150 - val_accuracy: 0.7495\n",
            "Epoch 11/20\n",
            "391/391 [==============================] - 156s 399ms/step - loss: 0.7025 - accuracy: 0.7532 - val_loss: 0.7149 - val_accuracy: 0.7532\n",
            "Epoch 12/20\n",
            "391/391 [==============================] - 157s 401ms/step - loss: 0.6789 - accuracy: 0.7608 - val_loss: 0.6539 - val_accuracy: 0.7732\n",
            "Epoch 13/20\n",
            "391/391 [==============================] - 157s 401ms/step - loss: 0.6617 - accuracy: 0.7665 - val_loss: 0.6771 - val_accuracy: 0.7683\n",
            "Epoch 14/20\n",
            "391/391 [==============================] - 157s 402ms/step - loss: 0.6391 - accuracy: 0.7778 - val_loss: 0.6615 - val_accuracy: 0.7694\n",
            "Epoch 15/20\n",
            "391/391 [==============================] - 157s 402ms/step - loss: 0.6246 - accuracy: 0.7817 - val_loss: 0.6376 - val_accuracy: 0.7815\n",
            "Epoch 16/20\n",
            "391/391 [==============================] - 157s 401ms/step - loss: 0.6024 - accuracy: 0.7906 - val_loss: 0.6207 - val_accuracy: 0.7905\n",
            "Epoch 17/20\n",
            "391/391 [==============================] - 157s 401ms/step - loss: 0.5975 - accuracy: 0.7900 - val_loss: 0.6154 - val_accuracy: 0.7902\n",
            "Epoch 18/20\n",
            "391/391 [==============================] - 156s 400ms/step - loss: 0.5813 - accuracy: 0.7938 - val_loss: 0.6028 - val_accuracy: 0.7914\n",
            "Epoch 19/20\n",
            "391/391 [==============================] - 157s 402ms/step - loss: 0.5712 - accuracy: 0.7985 - val_loss: 0.6303 - val_accuracy: 0.7887\n",
            "Epoch 20/20\n",
            "391/391 [==============================] - 157s 402ms/step - loss: 0.5573 - accuracy: 0.8025 - val_loss: 0.5881 - val_accuracy: 0.8019\n"
          ]
        }
      ]
    },
    {
      "cell_type": "code",
      "metadata": {
        "id": "eQsuIhTzk3fE",
        "colab": {
          "base_uri": "https://localhost:8080/"
        },
        "outputId": "0032231d-4ad7-4d50-8d97-9b5eecc1be73"
      },
      "source": [
        "score = model.evaluate(x_test, y_test)\n"
      ],
      "execution_count": 34,
      "outputs": [
        {
          "output_type": "stream",
          "name": "stdout",
          "text": [
            "313/313 [==============================] - 8s 26ms/step - loss: 0.5881 - accuracy: 0.8019\n"
          ]
        }
      ]
    },
    {
      "cell_type": "code",
      "source": [
        "y_pred=model.predict(x_test)\n",
        "y_pred[0:3]"
      ],
      "metadata": {
        "colab": {
          "base_uri": "https://localhost:8080/"
        },
        "id": "TM8rVSJTubdk",
        "outputId": "87a1aa3d-7bbd-43c8-fc3e-9d353c2a59e7"
      },
      "execution_count": 35,
      "outputs": [
        {
          "output_type": "execute_result",
          "data": {
            "text/plain": [
              "array([[2.7163900e-04, 3.2132107e-03, 1.4195467e-03, 6.9616461e-01,\n",
              "        3.4877294e-04, 2.6107654e-01, 3.5315517e-02, 1.1790473e-03,\n",
              "        6.1826344e-04, 3.9288329e-04],\n",
              "       [1.0811333e-02, 1.0433994e-01, 4.1965663e-07, 4.4686685e-06,\n",
              "        1.2815647e-07, 3.1810014e-08, 5.5820863e-08, 2.4172530e-07,\n",
              "        8.7238210e-01, 1.2461284e-02],\n",
              "       [1.9053901e-02, 3.0300581e-01, 1.2978271e-04, 1.0896876e-03,\n",
              "        2.1764536e-05, 5.6710844e-05, 7.3824012e-05, 1.3517588e-04,\n",
              "        6.2272805e-01, 5.3705323e-02]], dtype=float32)"
            ]
          },
          "metadata": {},
          "execution_count": 35
        }
      ]
    },
    {
      "cell_type": "code",
      "source": [
        "import numpy as np\n",
        "from numpy import argmax\n",
        "y_pred1=argmax(y_pred,axis=1)\n",
        "y_pred1[0:3]"
      ],
      "metadata": {
        "colab": {
          "base_uri": "https://localhost:8080/"
        },
        "id": "E0pQxWNYug09",
        "outputId": "1a65ceb0-8699-4780-f00f-da92511ca73d"
      },
      "execution_count": 36,
      "outputs": [
        {
          "output_type": "execute_result",
          "data": {
            "text/plain": [
              "array([3, 8, 8])"
            ]
          },
          "metadata": {},
          "execution_count": 36
        }
      ]
    },
    {
      "cell_type": "code",
      "source": [
        "from sklearn.metrics import accuracy_score,confusion_matrix\n",
        "print(confusion_matrix(y_pred1,y_test))\n",
        "print(accuracy_score(y_pred1,y_test))"
      ],
      "metadata": {
        "colab": {
          "base_uri": "https://localhost:8080/"
        },
        "id": "7lE3BZMAuqtB",
        "outputId": "08cfac76-8eb0-456e-d51e-25295c1549ac"
      },
      "execution_count": 37,
      "outputs": [
        {
          "output_type": "stream",
          "name": "stdout",
          "text": [
            "[[859   6  76  25  10  16   9  16  67  22]\n",
            " [ 12 938   2   8   4   2   3   0  40  60]\n",
            " [ 19   1 641  40  39  23  31   7   8   4]\n",
            " [  8   3  38 596  44  95  43  20   9  10]\n",
            " [ 14   0  78  49 769  36  18  35   3   4]\n",
            " [  3   3  70 168  35 754  19  35   2   1]\n",
            " [  4   8  52  59  37  18 864   7   4   4]\n",
            " [ 16   2  30  33  56  47   7 876   2   4]\n",
            " [ 38   5   4  13   4   5   3   1 843  12]\n",
            " [ 27  34   9   9   2   4   3   3  22 879]]\n",
            "0.8019\n"
          ]
        }
      ]
    }
  ]
}