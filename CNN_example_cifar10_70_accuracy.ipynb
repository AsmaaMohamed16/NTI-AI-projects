{
  "nbformat": 4,
  "nbformat_minor": 0,
  "metadata": {
    "colab": {
      "provenance": [],
      "collapsed_sections": []
    },
    "kernelspec": {
      "name": "python3",
      "display_name": "Python 3"
    },
    "language_info": {
      "name": "python"
    },
    "accelerator": "GPU"
  },
  "cells": [
    {
      "cell_type": "code",
      "metadata": {
        "id": "HD2Rk-ZDSMVx"
      },
      "source": [
        "from tensorflow import keras\n",
        "from keras.layers import Input, Dense, Dropout,Conv2D, MaxPooling2D, Flatten\n",
        "from tensorflow.keras import  datasets\n",
        "from matplotlib import pyplot as plt"
      ],
      "execution_count": 8,
      "outputs": []
    },
    {
      "cell_type": "code",
      "source": [
        "(x_train, y_train), (x_test, y_test) = datasets.cifar10.load_data()"
      ],
      "metadata": {
        "id": "6V3cDL4G4WMF"
      },
      "execution_count": null,
      "outputs": []
    },
    {
      "cell_type": "code",
      "source": [
        "x_train.shape"
      ],
      "metadata": {
        "colab": {
          "base_uri": "https://localhost:8080/"
        },
        "id": "55_pRpY4yeVd",
        "outputId": "de9edbb9-8f75-4e18-d449-6a42fc96fce0"
      },
      "execution_count": 10,
      "outputs": [
        {
          "output_type": "execute_result",
          "data": {
            "text/plain": [
              "(50000, 32, 32, 3)"
            ]
          },
          "metadata": {},
          "execution_count": 10
        }
      ]
    },
    {
      "cell_type": "code",
      "source": [
        "x_test.shape"
      ],
      "metadata": {
        "colab": {
          "base_uri": "https://localhost:8080/"
        },
        "id": "lcHxNPByyt2B",
        "outputId": "21b7a202-c1a5-49c7-877b-8c68886f09a2"
      },
      "execution_count": 11,
      "outputs": [
        {
          "output_type": "execute_result",
          "data": {
            "text/plain": [
              "(10000, 32, 32, 3)"
            ]
          },
          "metadata": {},
          "execution_count": 11
        }
      ]
    },
    {
      "cell_type": "code",
      "metadata": {
        "id": "vt9t37WrhWy8"
      },
      "source": [
        "#Normalize image pixel values.\n",
        "x_train = x_train/255\n",
        "x_test = x_test/255"
      ],
      "execution_count": 12,
      "outputs": []
    },
    {
      "cell_type": "code",
      "metadata": {
        "colab": {
          "base_uri": "https://localhost:8080/"
        },
        "id": "ORom-RTJZ-kp",
        "outputId": "4f253538-b52e-4240-a416-fad341de62da"
      },
      "source": [
        "model=keras.Sequential() #Create a network sequence.\n",
        "\n",
        "model.add(Input(shape=(32,32,3)))\n",
        "model.add(Conv2D(32, (3, 3), activation='relu'))\n",
        "#model.add(Conv2D(32, (3, 3), activation='relu',input_shape = (32,32,3)))\n",
        "model.add(MaxPooling2D((2, 2)))\n",
        "model.add(Conv2D(64, (3, 3), activation='relu'))\n",
        "model.add(MaxPooling2D((2, 2)))\n",
        "model.add(Conv2D(64, (3, 3), activation='relu'))\n",
        "model.add(MaxPooling2D((2, 2)))\n",
        "\n",
        "model.add(Flatten())\n",
        "model.add(Dense(64,activation = 'relu'))\n",
        "model.add(Dense(10,activation = 'softmax'))\n",
        "\n",
        "model.summary()"
      ],
      "execution_count": 13,
      "outputs": [
        {
          "output_type": "stream",
          "name": "stdout",
          "text": [
            "Model: \"sequential_1\"\n",
            "_________________________________________________________________\n",
            " Layer (type)                Output Shape              Param #   \n",
            "=================================================================\n",
            " conv2d_1 (Conv2D)           (None, 30, 30, 32)        896       \n",
            "                                                                 \n",
            " max_pooling2d (MaxPooling2D  (None, 15, 15, 32)       0         \n",
            " )                                                               \n",
            "                                                                 \n",
            " conv2d_2 (Conv2D)           (None, 13, 13, 64)        18496     \n",
            "                                                                 \n",
            " max_pooling2d_1 (MaxPooling  (None, 6, 6, 64)         0         \n",
            " 2D)                                                             \n",
            "                                                                 \n",
            " conv2d_3 (Conv2D)           (None, 4, 4, 64)          36928     \n",
            "                                                                 \n",
            " max_pooling2d_2 (MaxPooling  (None, 2, 2, 64)         0         \n",
            " 2D)                                                             \n",
            "                                                                 \n",
            " flatten (Flatten)           (None, 256)               0         \n",
            "                                                                 \n",
            " dense (Dense)               (None, 64)                16448     \n",
            "                                                                 \n",
            " dense_1 (Dense)             (None, 10)                650       \n",
            "                                                                 \n",
            "=================================================================\n",
            "Total params: 73,418\n",
            "Trainable params: 73,418\n",
            "Non-trainable params: 0\n",
            "_________________________________________________________________\n"
          ]
        }
      ]
    },
    {
      "cell_type": "code",
      "metadata": {
        "id": "skMSXinVhSPV",
        "colab": {
          "base_uri": "https://localhost:8080/"
        },
        "outputId": "715b9e7c-d92b-472f-82d5-451c299e4f95"
      },
      "source": [
        "model.compile(optimizer='Adam',loss=\"sparse_categorical_crossentropy\",metrics=['accuracy']) \n",
        "results= model.fit(x_train,y_train,epochs=20,batch_size=128,validation_data=(x_test, y_test))\n",
        "\n"
      ],
      "execution_count": 14,
      "outputs": [
        {
          "output_type": "stream",
          "name": "stdout",
          "text": [
            "Epoch 1/20\n",
            "391/391 [==============================] - 39s 99ms/step - loss: 1.7285 - accuracy: 0.3631 - val_loss: 1.4777 - val_accuracy: 0.4612\n",
            "Epoch 2/20\n",
            "391/391 [==============================] - 42s 106ms/step - loss: 1.3749 - accuracy: 0.5040 - val_loss: 1.3004 - val_accuracy: 0.5352\n",
            "Epoch 3/20\n",
            "391/391 [==============================] - 39s 100ms/step - loss: 1.2398 - accuracy: 0.5589 - val_loss: 1.2114 - val_accuracy: 0.5707\n",
            "Epoch 4/20\n",
            "391/391 [==============================] - 39s 100ms/step - loss: 1.1420 - accuracy: 0.5970 - val_loss: 1.1163 - val_accuracy: 0.6058\n",
            "Epoch 5/20\n",
            "391/391 [==============================] - 39s 100ms/step - loss: 1.0734 - accuracy: 0.6228 - val_loss: 1.0460 - val_accuracy: 0.6360\n",
            "Epoch 6/20\n",
            "391/391 [==============================] - 39s 101ms/step - loss: 1.0102 - accuracy: 0.6476 - val_loss: 1.0267 - val_accuracy: 0.6405\n",
            "Epoch 7/20\n",
            "391/391 [==============================] - 39s 99ms/step - loss: 0.9587 - accuracy: 0.6681 - val_loss: 1.0013 - val_accuracy: 0.6540\n",
            "Epoch 8/20\n",
            "391/391 [==============================] - 39s 99ms/step - loss: 0.9182 - accuracy: 0.6827 - val_loss: 1.0019 - val_accuracy: 0.6563\n",
            "Epoch 9/20\n",
            "391/391 [==============================] - 39s 99ms/step - loss: 0.8840 - accuracy: 0.6927 - val_loss: 0.9286 - val_accuracy: 0.6823\n",
            "Epoch 10/20\n",
            "391/391 [==============================] - 39s 100ms/step - loss: 0.8448 - accuracy: 0.7064 - val_loss: 0.9309 - val_accuracy: 0.6810\n",
            "Epoch 11/20\n",
            "391/391 [==============================] - 38s 98ms/step - loss: 0.8134 - accuracy: 0.7164 - val_loss: 0.9150 - val_accuracy: 0.6802\n",
            "Epoch 12/20\n",
            "391/391 [==============================] - 39s 99ms/step - loss: 0.7854 - accuracy: 0.7290 - val_loss: 0.9041 - val_accuracy: 0.6918\n",
            "Epoch 13/20\n",
            "391/391 [==============================] - 38s 98ms/step - loss: 0.7666 - accuracy: 0.7352 - val_loss: 0.9338 - val_accuracy: 0.6823\n",
            "Epoch 14/20\n",
            "391/391 [==============================] - 39s 101ms/step - loss: 0.7395 - accuracy: 0.7428 - val_loss: 0.8932 - val_accuracy: 0.6946\n",
            "Epoch 15/20\n",
            "391/391 [==============================] - 39s 99ms/step - loss: 0.7220 - accuracy: 0.7477 - val_loss: 0.9095 - val_accuracy: 0.6944\n",
            "Epoch 16/20\n",
            "391/391 [==============================] - 38s 98ms/step - loss: 0.7041 - accuracy: 0.7546 - val_loss: 0.8785 - val_accuracy: 0.7047\n",
            "Epoch 17/20\n",
            "391/391 [==============================] - 39s 99ms/step - loss: 0.6823 - accuracy: 0.7621 - val_loss: 0.9149 - val_accuracy: 0.6990\n",
            "Epoch 18/20\n",
            "391/391 [==============================] - 39s 100ms/step - loss: 0.6646 - accuracy: 0.7688 - val_loss: 0.8848 - val_accuracy: 0.7008\n",
            "Epoch 19/20\n",
            "391/391 [==============================] - 39s 99ms/step - loss: 0.6491 - accuracy: 0.7711 - val_loss: 0.8799 - val_accuracy: 0.7082\n",
            "Epoch 20/20\n",
            "391/391 [==============================] - 39s 99ms/step - loss: 0.6296 - accuracy: 0.7817 - val_loss: 0.8846 - val_accuracy: 0.7060\n"
          ]
        }
      ]
    },
    {
      "cell_type": "code",
      "metadata": {
        "id": "eQsuIhTzk3fE",
        "colab": {
          "base_uri": "https://localhost:8080/"
        },
        "outputId": "0e0b2e6f-4888-4bbd-ff9b-692cbdbb6acf"
      },
      "source": [
        "score = model.evaluate(x_test, y_test)\n"
      ],
      "execution_count": 15,
      "outputs": [
        {
          "output_type": "stream",
          "name": "stdout",
          "text": [
            "313/313 [==============================] - 3s 8ms/step - loss: 0.8846 - accuracy: 0.7060\n"
          ]
        }
      ]
    },
    {
      "cell_type": "code",
      "source": [
        "y_pred=model.predict(x_test)\n",
        "y_pred[0:3]"
      ],
      "metadata": {
        "colab": {
          "base_uri": "https://localhost:8080/"
        },
        "id": "TM8rVSJTubdk",
        "outputId": "9d9bd76a-6c53-44e1-f3e9-ccad57f9b7d1"
      },
      "execution_count": 16,
      "outputs": [
        {
          "output_type": "execute_result",
          "data": {
            "text/plain": [
              "array([[1.5172913e-03, 9.9149320e-06, 7.7598047e-04, 9.0275764e-01,\n",
              "        1.4874194e-03, 6.8829417e-02, 2.1303291e-03, 2.1371480e-04,\n",
              "        2.2230878e-02, 4.7437883e-05],\n",
              "       [5.4519637e-03, 8.1690669e-02, 2.6147868e-07, 9.3795124e-06,\n",
              "        1.9052472e-06, 2.8927238e-07, 3.7559644e-07, 1.9690831e-06,\n",
              "        9.1109723e-01, 1.7459057e-03],\n",
              "       [2.8101230e-02, 5.0271010e-01, 7.6053146e-04, 2.5489740e-03,\n",
              "        1.5116163e-03, 3.6923023e-04, 5.1770071e-03, 5.2724173e-04,\n",
              "        4.2105040e-01, 3.7243679e-02]], dtype=float32)"
            ]
          },
          "metadata": {},
          "execution_count": 16
        }
      ]
    },
    {
      "cell_type": "code",
      "source": [
        "import numpy as np\n",
        "from numpy import argmax\n",
        "y_pred1=argmax(y_pred,axis=1)\n",
        "y_pred1[0:3]"
      ],
      "metadata": {
        "colab": {
          "base_uri": "https://localhost:8080/"
        },
        "id": "E0pQxWNYug09",
        "outputId": "6954058d-fbc6-47df-9be9-52b9f79a204a"
      },
      "execution_count": 17,
      "outputs": [
        {
          "output_type": "execute_result",
          "data": {
            "text/plain": [
              "array([3, 8, 1])"
            ]
          },
          "metadata": {},
          "execution_count": 17
        }
      ]
    },
    {
      "cell_type": "code",
      "source": [
        "from sklearn.metrics import accuracy_score,confusion_matrix\n",
        "print(confusion_matrix(y_pred1,y_test))\n",
        "print(accuracy_score(y_pred1,y_test))"
      ],
      "metadata": {
        "colab": {
          "base_uri": "https://localhost:8080/"
        },
        "id": "7lE3BZMAuqtB",
        "outputId": "35fa8b41-d738-49c5-9d6e-a431ab23a826"
      },
      "execution_count": 18,
      "outputs": [
        {
          "output_type": "stream",
          "name": "stdout",
          "text": [
            "[[722  40  69  21  14   8   5  20  42  36]\n",
            " [  8 765   5   4   3   1   1   5  15  49]\n",
            " [ 40   6 568  56  60  51  39  36   9   8]\n",
            " [ 18   6  83 608  66 236  58  86  19  24]\n",
            " [ 38  10 101  62 718  68  34 133   8   6]\n",
            " [  4   5  47 119  19 553   7  52   5  10]\n",
            " [ 16  16  73  75  61  38 837  15   8  23]\n",
            " [  4   3  16  18  38  28   3 633   1  10]\n",
            " [115  63  31  22  19  11  14   7 876  54]\n",
            " [ 35  86   7  15   2   6   2  13  17 780]]\n",
            "0.706\n"
          ]
        }
      ]
    }
  ]
}