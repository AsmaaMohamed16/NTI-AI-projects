{
  "nbformat": 4,
  "nbformat_minor": 0,
  "metadata": {
    "colab": {
      "provenance": [],
      "collapsed_sections": []
    },
    "kernelspec": {
      "name": "python3",
      "display_name": "Python 3"
    },
    "language_info": {
      "name": "python"
    },
    "gpuClass": "standard",
    "accelerator": "GPU"
  },
  "cells": [
    {
      "cell_type": "code",
      "metadata": {
        "id": "HD2Rk-ZDSMVx"
      },
      "source": [
        "from tensorflow import keras\n",
        "from keras.layers import Input, Dense, Dropout,Conv2D, AvgPool2D, Flatten\n",
        "from tensorflow.keras import  datasets\n",
        "from matplotlib import pyplot as plt\n"
      ],
      "execution_count": 1,
      "outputs": []
    },
    {
      "cell_type": "code",
      "source": [
        "(x_train, y_train), (x_test, y_test) = datasets.mnist.load_data()"
      ],
      "metadata": {
        "id": "6V3cDL4G4WMF"
      },
      "execution_count": 2,
      "outputs": []
    },
    {
      "cell_type": "code",
      "source": [
        "plt.imshow(x_train[7],cmap=\"gray\")\n",
        "print(y_train[7])"
      ],
      "metadata": {
        "colab": {
          "base_uri": "https://localhost:8080/",
          "height": 283
        },
        "id": "Vq0Ewpop3T6t",
        "outputId": "05d9911f-6014-41bc-dc53-4be986c41457"
      },
      "execution_count": 3,
      "outputs": [
        {
          "output_type": "stream",
          "name": "stdout",
          "text": [
            "3\n"
          ]
        },
        {
          "output_type": "display_data",
          "data": {
            "text/plain": [
              "<Figure size 432x288 with 1 Axes>"
            ],
            "image/png": "[encoded data removed]"
          },
          "metadata": {
            "needs_background": "light"
          }
        }
      ]
    },
    {
      "cell_type": "code",
      "source": [
        "#Convert the labels into one-hot codes.\n",
        "num_classes = 10\n",
        "y_train_cat = keras.utils.to_categorical(y_train, num_classes)\n",
        "y_test_cat = keras.utils.to_categorical(y_test, num_classes)\n",
        "print(y_train_cat[7])"
      ],
      "metadata": {
        "colab": {
          "base_uri": "https://localhost:8080/"
        },
        "id": "SYay648d3REP",
        "outputId": "ab016572-1f3e-4ad3-f06f-2920680dcfe1"
      },
      "execution_count": 4,
      "outputs": [
        {
          "output_type": "stream",
          "name": "stdout",
          "text": [
            "[0. 0. 0. 1. 0. 0. 0. 0. 0. 0.]\n"
          ]
        }
      ]
    },
    {
      "cell_type": "code",
      "metadata": {
        "id": "vt9t37WrhWy8"
      },
      "source": [
        "#Normalize image pixel values.\n",
        "x_train = x_train/255\n",
        "x_test = x_test/255"
      ],
      "execution_count": 5,
      "outputs": []
    },
    {
      "cell_type": "code",
      "metadata": {
        "colab": {
          "base_uri": "https://localhost:8080/"
        },
        "id": "ORom-RTJZ-kp",
        "outputId": "bd27016a-ad1f-4ecf-b1ed-4b73661ee70d"
      },
      "source": [
        "model=keras.Sequential() #Create a network sequence.\n",
        "model.add(Input(shape=(28,28,1)))\n",
        "model.add(Conv2D(filters=6,kernel_size = 5,strides = (1,1), padding = 'same',activation = 'relu'))\n",
        "#model.add(Conv2D(filters=6,kernel_size = 5,strides = (1,1), padding = 'same',activation = 'relu',input_shape = (28,28,1)))\n",
        "model.add(AvgPool2D(pool_size=(2,2), strides = (2,2), padding = 'valid'))\n",
        "\n",
        "model.add(Conv2D(filters=6,kernel_size = 5,strides = (1,1), padding = 'same',activation = 'relu'))\n",
        "model.add(AvgPool2D(pool_size=(2,2), strides = (2,2), padding = 'valid'))\n",
        "\n",
        "model.add(Conv2D(filters=16,kernel_size = 3,strides = (1,1),padding = 'same',activation = 'relu'))\n",
        "model.add(AvgPool2D(pool_size=(2,2), strides = (2,2), padding = 'valid'))\n",
        "\n",
        "\n",
        "model.add(Flatten())\n",
        "model.add(Dense(84,activation = 'relu'))\n",
        "model.add(Dense(10,activation = 'softmax'))\n",
        "\n",
        "model.summary()"
      ],
      "execution_count": 6,
      "outputs": [
        {
          "output_type": "stream",
          "name": "stdout",
          "text": [
            "Model: \"sequential\"\n",
            "_________________________________________________________________\n",
            " Layer (type)                Output Shape              Param #   \n",
            "=================================================================\n",
            " conv2d (Conv2D)             (None, 28, 28, 6)         156       \n",
            "                                                                 \n",
            " average_pooling2d (AverageP  (None, 14, 14, 6)        0         \n",
            " ooling2D)                                                       \n",
            "                                                                 \n",
            " conv2d_1 (Conv2D)           (None, 14, 14, 6)         906       \n",
            "                                                                 \n",
            " average_pooling2d_1 (Averag  (None, 7, 7, 6)          0         \n",
            " ePooling2D)                                                     \n",
            "                                                                 \n",
            " conv2d_2 (Conv2D)           (None, 7, 7, 16)          880       \n",
            "                                                                 \n",
            " average_pooling2d_2 (Averag  (None, 3, 3, 16)         0         \n",
            " ePooling2D)                                                     \n",
            "                                                                 \n",
            " flatten (Flatten)           (None, 144)               0         \n",
            "                                                                 \n",
            " dense (Dense)               (None, 84)                12180     \n",
            "                                                                 \n",
            " dense_1 (Dense)             (None, 10)                850       \n",
            "                                                                 \n",
            "=================================================================\n",
            "Total params: 14,972\n",
            "Trainable params: 14,972\n",
            "Non-trainable params: 0\n",
            "_________________________________________________________________\n"
          ]
        }
      ]
    },
    {
      "cell_type": "code",
      "source": [
        "model.compile(optimizer='Adam',loss=\"categorical_crossentropy\",metrics=['accuracy']) "
      ],
      "metadata": {
        "id": "W0tZ_a9GCb_T"
      },
      "execution_count": 12,
      "outputs": []
    },
    {
      "cell_type": "code",
      "source": [
        "model.fit(x_train,y_train_cat,epochs=10,batch_size=128,validation_data=(x_test, y_test_cat))"
      ],
      "metadata": {
        "id": "zGJshjLaJbRD",
        "outputId": "38ee9621-234d-49d8-dae2-104802343be6",
        "colab": {
          "base_uri": "https://localhost:8080/"
        }
      },
      "execution_count": 13,
      "outputs": [
        {
          "output_type": "stream",
          "name": "stdout",
          "text": [
            "Epoch 1/10\n",
            "469/469 [==============================] - 3s 6ms/step - loss: 0.6064 - accuracy: 0.8123 - val_loss: 0.2586 - val_accuracy: 0.9162\n",
            "Epoch 2/10\n",
            "469/469 [==============================] - 2s 5ms/step - loss: 0.1940 - accuracy: 0.9416 - val_loss: 0.1288 - val_accuracy: 0.9597\n",
            "Epoch 3/10\n",
            "469/469 [==============================] - 2s 5ms/step - loss: 0.1360 - accuracy: 0.9585 - val_loss: 0.1066 - val_accuracy: 0.9671\n",
            "Epoch 4/10\n",
            "469/469 [==============================] - 2s 5ms/step - loss: 0.1107 - accuracy: 0.9655 - val_loss: 0.0891 - val_accuracy: 0.9724\n",
            "Epoch 5/10\n",
            "469/469 [==============================] - 2s 5ms/step - loss: 0.0957 - accuracy: 0.9711 - val_loss: 0.0755 - val_accuracy: 0.9763\n",
            "Epoch 6/10\n",
            "469/469 [==============================] - 2s 5ms/step - loss: 0.0836 - accuracy: 0.9744 - val_loss: 0.0749 - val_accuracy: 0.9747\n",
            "Epoch 7/10\n",
            "469/469 [==============================] - 2s 5ms/step - loss: 0.0747 - accuracy: 0.9765 - val_loss: 0.0563 - val_accuracy: 0.9815\n",
            "Epoch 8/10\n",
            "469/469 [==============================] - 2s 5ms/step - loss: 0.0692 - accuracy: 0.9787 - val_loss: 0.0693 - val_accuracy: 0.9779\n",
            "Epoch 9/10\n",
            "469/469 [==============================] - 2s 5ms/step - loss: 0.0630 - accuracy: 0.9803 - val_loss: 0.0533 - val_accuracy: 0.9826\n",
            "Epoch 10/10\n",
            "469/469 [==============================] - 2s 5ms/step - loss: 0.0591 - accuracy: 0.9819 - val_loss: 0.0482 - val_accuracy: 0.9846\n"
          ]
        },
        {
          "output_type": "execute_result",
          "data": {
            "text/plain": [
              "<keras.callbacks.History at 0x7f4db07dfed0>"
            ]
          },
          "metadata": {},
          "execution_count": 13
        }
      ]
    },
    {
      "cell_type": "code",
      "metadata": {
        "id": "eQsuIhTzk3fE",
        "colab": {
          "base_uri": "https://localhost:8080/"
        },
        "outputId": "8d4e037d-e9f3-43ba-be04-05710dda9149"
      },
      "source": [
        "score = model.evaluate(x_test, y_test_cat)\n"
      ],
      "execution_count": 14,
      "outputs": [
        {
          "output_type": "stream",
          "name": "stdout",
          "text": [
            "313/313 [==============================] - 1s 3ms/step - loss: 0.0482 - accuracy: 0.9846\n"
          ]
        }
      ]
    },
    {
      "cell_type": "code",
      "source": [
        "y_pred=model.predict(x_test)\n",
        "y_pred.shape"
      ],
      "metadata": {
        "id": "TUeeh76-boj7",
        "colab": {
          "base_uri": "https://localhost:8080/"
        },
        "outputId": "9d52cdb3-887b-41ef-cd48-e5397aed91fc"
      },
      "execution_count": 15,
      "outputs": [
        {
          "output_type": "execute_result",
          "data": {
            "text/plain": [
              "(10000, 10)"
            ]
          },
          "metadata": {},
          "execution_count": 15
        }
      ]
    },
    {
      "cell_type": "code",
      "source": [
        "import numpy as np\n",
        "from numpy import argmax\n",
        "y_pred1=argmax(y_pred,axis=1)"
      ],
      "metadata": {
        "id": "RiaaNEJbhUFI"
      },
      "execution_count": 16,
      "outputs": []
    },
    {
      "cell_type": "code",
      "source": [
        "x_test.shape"
      ],
      "metadata": {
        "colab": {
          "base_uri": "https://localhost:8080/"
        },
        "id": "tzVAJzBizHxK",
        "outputId": "019cb12c-285e-4406-e768-51610b4c8003"
      },
      "execution_count": 17,
      "outputs": [
        {
          "output_type": "execute_result",
          "data": {
            "text/plain": [
              "(10000, 28, 28)"
            ]
          },
          "metadata": {},
          "execution_count": 17
        }
      ]
    },
    {
      "cell_type": "code",
      "source": [
        "plt.imshow(x_test[503],cmap=\"gray\")\n",
        "print(y_pred[503])\n",
        "print(y_pred1[503])"
      ],
      "metadata": {
        "colab": {
          "base_uri": "https://localhost:8080/",
          "height": 320
        },
        "id": "MDYonRGogviR",
        "outputId": "4deb2fa4-f099-4988-ca3c-1c1ee32a2f5d"
      },
      "execution_count": 18,
      "outputs": [
        {
          "output_type": "stream",
          "name": "stdout",
          "text": [
            "[7.3646633e-10 2.0716258e-09 1.0000000e+00 1.9349926e-10 1.2022761e-13\n",
            " 6.8012773e-15 2.6379992e-14 5.7903375e-09 1.3078488e-10 4.1283945e-15]\n",
            "2\n"
          ]
        },
        {
          "output_type": "display_data",
          "data": {
            "text/plain": [
              "<Figure size 432x288 with 1 Axes>"
            ],
            "image/png": "[encoded data removed]"
          },
          "metadata": {
            "needs_background": "light"
          }
        }
      ]
    },
    {
      "cell_type": "code",
      "source": [
        "from sklearn.metrics import accuracy_score,confusion_matrix\n",
        "print(confusion_matrix(y_pred1,y_test))\n",
        "print(accuracy_score(y_pred1,y_test))\n"
      ],
      "metadata": {
        "colab": {
          "base_uri": "https://localhost:8080/"
        },
        "id": "7qBHSKgNihD7",
        "outputId": "9e6365bc-93df-435f-dd34-9059abf820a4"
      },
      "execution_count": 19,
      "outputs": [
        {
          "output_type": "stream",
          "name": "stdout",
          "text": [
            "[[ 975    0    0    2    0    2    4    1    6    2]\n",
            " [   0 1130    4    1    0    0    1    1    0    3]\n",
            " [   1    1 1021    2    1    0    0   11    4    2]\n",
            " [   0    0    0  992    0    7    0    1    1    2]\n",
            " [   1    0    0    0  972    0    2    1    4    9]\n",
            " [   0    0    0    3    0  874    3    0    2    5]\n",
            " [   1    2    0    0    6    3  947    0    4    0]\n",
            " [   1    1    5    6    0    0    0 1005    2    4]\n",
            " [   1    1    2    4    0    3    1    1  948    0]\n",
            " [   0    0    0    0    3    3    0    7    3  982]]\n",
            "0.9846\n"
          ]
        }
      ]
    }
  ]
}